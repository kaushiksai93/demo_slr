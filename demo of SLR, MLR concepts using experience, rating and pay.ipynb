{
 "cells": [
  {
   "cell_type": "code",
   "execution_count": 1,
   "id": "4a25ca54",
   "metadata": {},
   "outputs": [],
   "source": [
    "import numpy as np\n",
    "import pandas as pd\n",
    "import matplotlib.pyplot as plt\n",
    "from sklearn.model_selection import train_test_split\n",
    "from sklearn.metrics import mean_squared_error, mean_absolute_percentage_error\n",
    "from sklearn.linear_model import LinearRegression\n",
    "import statsmodels.api as sm"
   ]
  },
  {
   "cell_type": "code",
   "execution_count": 2,
   "id": "473d2070",
   "metadata": {},
   "outputs": [],
   "source": [
    "# Set random seed for reproducibility\n",
    "np.random.seed(1)"
   ]
  },
  {
   "cell_type": "code",
   "execution_count": 3,
   "id": "835be4e2",
   "metadata": {},
   "outputs": [
    {
     "data": {
      "text/html": [
       "<div>\n",
       "<style scoped>\n",
       "    .dataframe tbody tr th:only-of-type {\n",
       "        vertical-align: middle;\n",
       "    }\n",
       "\n",
       "    .dataframe tbody tr th {\n",
       "        vertical-align: top;\n",
       "    }\n",
       "\n",
       "    .dataframe thead th {\n",
       "        text-align: right;\n",
       "    }\n",
       "</style>\n",
       "<table border=\"1\" class=\"dataframe\">\n",
       "  <thead>\n",
       "    <tr style=\"text-align: right;\">\n",
       "      <th></th>\n",
       "      <th>years</th>\n",
       "      <th>rating</th>\n",
       "      <th>pay</th>\n",
       "    </tr>\n",
       "  </thead>\n",
       "  <tbody>\n",
       "    <tr>\n",
       "      <th>0</th>\n",
       "      <td>15</td>\n",
       "      <td>2.97</td>\n",
       "      <td>38.40</td>\n",
       "    </tr>\n",
       "    <tr>\n",
       "      <th>1</th>\n",
       "      <td>14</td>\n",
       "      <td>3.96</td>\n",
       "      <td>40.63</td>\n",
       "    </tr>\n",
       "    <tr>\n",
       "      <th>2</th>\n",
       "      <td>15</td>\n",
       "      <td>2.43</td>\n",
       "      <td>35.99</td>\n",
       "    </tr>\n",
       "    <tr>\n",
       "      <th>3</th>\n",
       "      <td>3</td>\n",
       "      <td>2.67</td>\n",
       "      <td>14.13</td>\n",
       "    </tr>\n",
       "    <tr>\n",
       "      <th>4</th>\n",
       "      <td>13</td>\n",
       "      <td>3.62</td>\n",
       "      <td>37.55</td>\n",
       "    </tr>\n",
       "  </tbody>\n",
       "</table>\n",
       "</div>"
      ],
      "text/plain": [
       "   years  rating    pay\n",
       "0     15    2.97  38.40\n",
       "1     14    3.96  40.63\n",
       "2     15    2.43  35.99\n",
       "3      3    2.67  14.13\n",
       "4     13    3.62  37.55"
      ]
     },
     "execution_count": 3,
     "metadata": {},
     "output_type": "execute_result"
    }
   ],
   "source": [
    "# read dataset\n",
    "df = pd.read_csv(\"pay.csv\")\n",
    "df.head()"
   ]
  },
  {
   "cell_type": "code",
   "execution_count": 4,
   "id": "ac3ff196",
   "metadata": {},
   "outputs": [
    {
     "data": {
      "text/plain": [
       "(40, 3)"
      ]
     },
     "execution_count": 4,
     "metadata": {},
     "output_type": "execute_result"
    }
   ],
   "source": [
    "df.shape"
   ]
  },
  {
   "cell_type": "code",
   "execution_count": 34,
   "id": "2cc5d17d",
   "metadata": {},
   "outputs": [],
   "source": [
    "lm = LinearRegression()\n",
    "model = lm.fit(df[['years','rating']], df['pay'])"
   ]
  },
  {
   "cell_type": "code",
   "execution_count": 36,
   "id": "e250c1ce",
   "metadata": {},
   "outputs": [
    {
     "data": {
      "text/plain": [
       "(0.2618229784275954, array([1.97420984, 2.95701337]))"
      ]
     },
     "execution_count": 36,
     "metadata": {},
     "output_type": "execute_result"
    }
   ],
   "source": [
    "model.intercept_, model.coef_"
   ]
  },
  {
   "cell_type": "code",
   "execution_count": null,
   "id": "f130b4c0",
   "metadata": {},
   "outputs": [],
   "source": [
    "yhat = b0 + b1.X1 + b2X2 + ..."
   ]
  },
  {
   "cell_type": "code",
   "execution_count": 51,
   "id": "598a11be",
   "metadata": {},
   "outputs": [
    {
     "data": {
      "text/html": [
       "<div>\n",
       "<style scoped>\n",
       "    .dataframe tbody tr th:only-of-type {\n",
       "        vertical-align: middle;\n",
       "    }\n",
       "\n",
       "    .dataframe tbody tr th {\n",
       "        vertical-align: top;\n",
       "    }\n",
       "\n",
       "    .dataframe thead th {\n",
       "        text-align: right;\n",
       "    }\n",
       "</style>\n",
       "<table border=\"1\" class=\"dataframe\">\n",
       "  <thead>\n",
       "    <tr style=\"text-align: right;\">\n",
       "      <th></th>\n",
       "      <th>years</th>\n",
       "    </tr>\n",
       "  </thead>\n",
       "  <tbody>\n",
       "    <tr>\n",
       "      <th>0</th>\n",
       "      <td>15</td>\n",
       "    </tr>\n",
       "    <tr>\n",
       "      <th>1</th>\n",
       "      <td>14</td>\n",
       "    </tr>\n",
       "    <tr>\n",
       "      <th>2</th>\n",
       "      <td>15</td>\n",
       "    </tr>\n",
       "    <tr>\n",
       "      <th>3</th>\n",
       "      <td>3</td>\n",
       "    </tr>\n",
       "    <tr>\n",
       "      <th>4</th>\n",
       "      <td>13</td>\n",
       "    </tr>\n",
       "    <tr>\n",
       "      <th>5</th>\n",
       "      <td>3</td>\n",
       "    </tr>\n",
       "    <tr>\n",
       "      <th>6</th>\n",
       "      <td>7</td>\n",
       "    </tr>\n",
       "    <tr>\n",
       "      <th>7</th>\n",
       "      <td>2</td>\n",
       "    </tr>\n",
       "    <tr>\n",
       "      <th>8</th>\n",
       "      <td>4</td>\n",
       "    </tr>\n",
       "    <tr>\n",
       "      <th>9</th>\n",
       "      <td>11</td>\n",
       "    </tr>\n",
       "    <tr>\n",
       "      <th>10</th>\n",
       "      <td>12</td>\n",
       "    </tr>\n",
       "    <tr>\n",
       "      <th>11</th>\n",
       "      <td>10</td>\n",
       "    </tr>\n",
       "    <tr>\n",
       "      <th>12</th>\n",
       "      <td>7</td>\n",
       "    </tr>\n",
       "    <tr>\n",
       "      <th>13</th>\n",
       "      <td>2</td>\n",
       "    </tr>\n",
       "    <tr>\n",
       "      <th>14</th>\n",
       "      <td>1</td>\n",
       "    </tr>\n",
       "    <tr>\n",
       "      <th>15</th>\n",
       "      <td>2</td>\n",
       "    </tr>\n",
       "    <tr>\n",
       "      <th>16</th>\n",
       "      <td>15</td>\n",
       "    </tr>\n",
       "    <tr>\n",
       "      <th>17</th>\n",
       "      <td>10</td>\n",
       "    </tr>\n",
       "    <tr>\n",
       "      <th>18</th>\n",
       "      <td>1</td>\n",
       "    </tr>\n",
       "    <tr>\n",
       "      <th>19</th>\n",
       "      <td>15</td>\n",
       "    </tr>\n",
       "    <tr>\n",
       "      <th>20</th>\n",
       "      <td>1</td>\n",
       "    </tr>\n",
       "    <tr>\n",
       "      <th>21</th>\n",
       "      <td>10</td>\n",
       "    </tr>\n",
       "    <tr>\n",
       "      <th>22</th>\n",
       "      <td>4</td>\n",
       "    </tr>\n",
       "    <tr>\n",
       "      <th>23</th>\n",
       "      <td>15</td>\n",
       "    </tr>\n",
       "    <tr>\n",
       "      <th>24</th>\n",
       "      <td>14</td>\n",
       "    </tr>\n",
       "    <tr>\n",
       "      <th>25</th>\n",
       "      <td>5</td>\n",
       "    </tr>\n",
       "    <tr>\n",
       "      <th>26</th>\n",
       "      <td>1</td>\n",
       "    </tr>\n",
       "    <tr>\n",
       "      <th>27</th>\n",
       "      <td>1</td>\n",
       "    </tr>\n",
       "    <tr>\n",
       "      <th>28</th>\n",
       "      <td>5</td>\n",
       "    </tr>\n",
       "    <tr>\n",
       "      <th>29</th>\n",
       "      <td>2</td>\n",
       "    </tr>\n",
       "    <tr>\n",
       "      <th>30</th>\n",
       "      <td>8</td>\n",
       "    </tr>\n",
       "    <tr>\n",
       "      <th>31</th>\n",
       "      <td>4</td>\n",
       "    </tr>\n",
       "    <tr>\n",
       "      <th>32</th>\n",
       "      <td>3</td>\n",
       "    </tr>\n",
       "    <tr>\n",
       "      <th>33</th>\n",
       "      <td>5</td>\n",
       "    </tr>\n",
       "    <tr>\n",
       "      <th>34</th>\n",
       "      <td>8</td>\n",
       "    </tr>\n",
       "    <tr>\n",
       "      <th>35</th>\n",
       "      <td>3</td>\n",
       "    </tr>\n",
       "    <tr>\n",
       "      <th>36</th>\n",
       "      <td>5</td>\n",
       "    </tr>\n",
       "    <tr>\n",
       "      <th>37</th>\n",
       "      <td>9</td>\n",
       "    </tr>\n",
       "    <tr>\n",
       "      <th>38</th>\n",
       "      <td>14</td>\n",
       "    </tr>\n",
       "    <tr>\n",
       "      <th>39</th>\n",
       "      <td>1</td>\n",
       "    </tr>\n",
       "  </tbody>\n",
       "</table>\n",
       "</div>"
      ],
      "text/plain": [
       "    years\n",
       "0      15\n",
       "1      14\n",
       "2      15\n",
       "3       3\n",
       "4      13\n",
       "5       3\n",
       "6       7\n",
       "7       2\n",
       "8       4\n",
       "9      11\n",
       "10     12\n",
       "11     10\n",
       "12      7\n",
       "13      2\n",
       "14      1\n",
       "15      2\n",
       "16     15\n",
       "17     10\n",
       "18      1\n",
       "19     15\n",
       "20      1\n",
       "21     10\n",
       "22      4\n",
       "23     15\n",
       "24     14\n",
       "25      5\n",
       "26      1\n",
       "27      1\n",
       "28      5\n",
       "29      2\n",
       "30      8\n",
       "31      4\n",
       "32      3\n",
       "33      5\n",
       "34      8\n",
       "35      3\n",
       "36      5\n",
       "37      9\n",
       "38     14\n",
       "39      1"
      ]
     },
     "execution_count": 51,
     "metadata": {},
     "output_type": "execute_result"
    }
   ],
   "source": [
    "pd.DataFrame(df.iloc[:,0:i+1])"
   ]
  },
  {
   "cell_type": "code",
   "execution_count": 53,
   "id": "254f68bd",
   "metadata": {},
   "outputs": [
    {
     "name": "stdout",
     "output_type": "stream",
     "text": [
      "[1.99346]\n",
      "[1.97420984 2.95701337]\n"
     ]
    }
   ],
   "source": [
    "for i in range(df.shape[1]-1):\n",
    "    X = pd.DataFrame(df.iloc[:,0:i+1])\n",
    "    y = df.pay\n",
    "    model = lm.fit(X,y)\n",
    "    print(model.coef_)"
   ]
  },
  {
   "cell_type": "code",
   "execution_count": 5,
   "id": "8774fb89",
   "metadata": {},
   "outputs": [],
   "source": [
    "X = df.iloc[:,:-1]\n",
    "y = df.pay"
   ]
  },
  {
   "cell_type": "code",
   "execution_count": 6,
   "id": "b7f9783f",
   "metadata": {},
   "outputs": [],
   "source": [
    "# Split dataset into training and test sets\n",
    "X_train, X_test,y_train,y_test = train_test_split(X,y, test_size=0.25, random_state=1)"
   ]
  },
  {
   "cell_type": "code",
   "execution_count": 7,
   "id": "175a140b",
   "metadata": {},
   "outputs": [
    {
     "data": {
      "text/plain": [
       "((30, 2), (10, 2), (30,), (10,))"
      ]
     },
     "execution_count": 7,
     "metadata": {},
     "output_type": "execute_result"
    }
   ],
   "source": [
    "X_train.shape, X_test.shape,y_train.shape, y_test.shape"
   ]
  },
  {
   "cell_type": "code",
   "execution_count": 8,
   "id": "4351d83c",
   "metadata": {},
   "outputs": [
    {
     "data": {
      "image/png": "[encoded data removed]",
      "text/plain": [
       "<Figure size 432x288 with 1 Axes>"
      ]
     },
     "metadata": {
      "needs_background": "light"
     },
     "output_type": "display_data"
    }
   ],
   "source": [
    "plt.scatter(X_train.years,y_train);"
   ]
  },
  {
   "cell_type": "code",
   "execution_count": 9,
   "id": "27896add",
   "metadata": {},
   "outputs": [
    {
     "data": {
      "image/png": "[encoded data removed]",
      "text/plain": [
       "<Figure size 432x288 with 1 Axes>"
      ]
     },
     "metadata": {
      "needs_background": "light"
     },
     "output_type": "display_data"
    }
   ],
   "source": [
    "plt.scatter(X_train.rating,y_train);"
   ]
  },
  {
   "cell_type": "code",
   "execution_count": 10,
   "id": "055f0d68",
   "metadata": {},
   "outputs": [
    {
     "data": {
      "text/plain": [
       "(0.9358710414039949, 0.30251303153054127)"
      ]
     },
     "execution_count": 10,
     "metadata": {},
     "output_type": "execute_result"
    }
   ],
   "source": [
    "X_train.years.corr(y_train), X_train.rating.corr(y_train)"
   ]
  },
  {
   "cell_type": "code",
   "execution_count": 11,
   "id": "54579f3a",
   "metadata": {},
   "outputs": [],
   "source": [
    "# there are two features. First feature appears more correlated to label.\n",
    "# hence, for the SLR we choose 'years' feature"
   ]
  },
  {
   "cell_type": "code",
   "execution_count": 12,
   "id": "7f2d279e",
   "metadata": {},
   "outputs": [],
   "source": [
    "# SLR Simple Linear Regression"
   ]
  },
  {
   "cell_type": "code",
   "execution_count": 13,
   "id": "cf039b24",
   "metadata": {},
   "outputs": [],
   "source": [
    "lm = LinearRegression()\n",
    "model_slr = lm.fit(X_train[['years']],y_train)"
   ]
  },
  {
   "cell_type": "code",
   "execution_count": 14,
   "id": "2d10b67d",
   "metadata": {},
   "outputs": [
    {
     "data": {
      "text/plain": [
       "(8.828928640495063, array([2.00425063]))"
      ]
     },
     "execution_count": 14,
     "metadata": {},
     "output_type": "execute_result"
    }
   ],
   "source": [
    "model_slr.intercept_, model_slr.coef_"
   ]
  },
  {
   "cell_type": "code",
   "execution_count": 15,
   "id": "91d46da9",
   "metadata": {},
   "outputs": [
    {
     "data": {
      "text/plain": [
       "array([14.84168053, 28.87143493, 24.86293367, 18.85018178, 18.85018178,\n",
       "       18.85018178, 34.88418681, 10.83317927, 32.87993618, 14.84168053,\n",
       "       38.89268807, 36.88843744, 24.86293367, 10.83317927, 10.83317927,\n",
       "       18.85018178, 22.85868304, 12.8374299 , 12.8374299 , 36.88843744,\n",
       "       36.88843744, 38.89268807, 38.89268807, 12.8374299 , 14.84168053,\n",
       "       28.87143493, 30.87568555, 16.84593115, 22.85868304, 26.8671843 ])"
      ]
     },
     "execution_count": 15,
     "metadata": {},
     "output_type": "execute_result"
    }
   ],
   "source": [
    "model_slr.predict(X_train[['years']])"
   ]
  },
  {
   "cell_type": "code",
   "execution_count": 16,
   "id": "c7e8234a",
   "metadata": {},
   "outputs": [
    {
     "data": {
      "text/plain": [
       "32    14.841681\n",
       "17    28.871435\n",
       "30    24.862934\n",
       "36    18.850182\n",
       "33    18.850182\n",
       "Name: years, dtype: float64"
      ]
     },
     "execution_count": 16,
     "metadata": {},
     "output_type": "execute_result"
    }
   ],
   "source": [
    "# compute predictions using the model parameters\n",
    "yhat_train = model_slr.intercept_ + model_slr.coef_ * X_train['years']\n",
    "yhat_train[0:5]"
   ]
  },
  {
   "cell_type": "code",
   "execution_count": 17,
   "id": "2d74f77a",
   "metadata": {},
   "outputs": [],
   "source": [
    "# calculate R Square = 1 - SSE/SST\n",
    "\n",
    "# sum of squares of errors\n",
    "SSE = sum((y_train - yhat_train)**2)"
   ]
  },
  {
   "cell_type": "code",
   "execution_count": 18,
   "id": "a17da310",
   "metadata": {},
   "outputs": [],
   "source": [
    "# total sum of squares or total variation in target\n",
    "SST = sum((y_train - np.mean(y_train))**2)"
   ]
  },
  {
   "cell_type": "code",
   "execution_count": 19,
   "id": "7218401c",
   "metadata": {},
   "outputs": [
    {
     "data": {
      "text/plain": [
       "0.8758546061385976"
      ]
     },
     "execution_count": 19,
     "metadata": {},
     "output_type": "execute_result"
    }
   ],
   "source": [
    "# R Square\n",
    "model_slr_r_square = 1 - SSE/SST\n",
    "model_slr_r_square"
   ]
  },
  {
   "cell_type": "code",
   "execution_count": 20,
   "id": "caeedebb",
   "metadata": {},
   "outputs": [],
   "source": [
    "# sum of squares of regression (variation explained by the model)\n",
    "SSR = sum((yhat_train - np.mean(y_train))**2)"
   ]
  },
  {
   "cell_type": "code",
   "execution_count": 21,
   "id": "db329950",
   "metadata": {},
   "outputs": [
    {
     "data": {
      "text/plain": [
       "0.8758546061385977"
      ]
     },
     "execution_count": 21,
     "metadata": {},
     "output_type": "execute_result"
    }
   ],
   "source": [
    "SSR/SST"
   ]
  },
  {
   "cell_type": "code",
   "execution_count": 22,
   "id": "b5239eaf",
   "metadata": {},
   "outputs": [
    {
     "data": {
      "text/plain": [
       "(3162.1707199999996, 3162.17072)"
      ]
     },
     "execution_count": 22,
     "metadata": {},
     "output_type": "execute_result"
    }
   ],
   "source": [
    "# total variation = explained variation + unexplained variation\n",
    "# SST = SSR + SSE\n",
    "SST, SSR + SSE"
   ]
  },
  {
   "cell_type": "code",
   "execution_count": 23,
   "id": "ceb63d9f",
   "metadata": {},
   "outputs": [
    {
     "data": {
      "text/plain": [
       "0.8758546061385976"
      ]
     },
     "execution_count": 23,
     "metadata": {},
     "output_type": "execute_result"
    }
   ],
   "source": [
    "# get this using the model\n",
    "model_slr.score(X_train[['years']],y_train)"
   ]
  },
  {
   "cell_type": "raw",
   "id": "23413e36",
   "metadata": {},
   "source": [
    "correlation and R Square\n",
    "if r is the correlation between the feature and the label then R Square = r**2\n",
    "\n",
    "greater the correlation between feature and label, better is the fit of the linear model\n",
    "\n",
    "this property applies directly only in SLR.\n",
    "\n",
    "In MLR also, correlation improves R Square but this simple formula does not apply."
   ]
  },
  {
   "cell_type": "code",
   "execution_count": 24,
   "id": "62abe9e4",
   "metadata": {},
   "outputs": [
    {
     "data": {
      "text/plain": [
       "0.9358710414039949"
      ]
     },
     "execution_count": 24,
     "metadata": {},
     "output_type": "execute_result"
    }
   ],
   "source": [
    "# correlation between feature and label (r)\n",
    "r = X_train.years.corr(y_train)\n",
    "r"
   ]
  },
  {
   "cell_type": "code",
   "execution_count": 25,
   "id": "cafe2aed",
   "metadata": {},
   "outputs": [
    {
     "data": {
      "text/plain": [
       "0.875854606138598"
      ]
     },
     "execution_count": 25,
     "metadata": {},
     "output_type": "execute_result"
    }
   ],
   "source": [
    "# this is same as model R Square. Shows that as correlation is higher model fit is better.\n",
    "r**2"
   ]
  },
  {
   "cell_type": "code",
   "execution_count": 26,
   "id": "238c543c",
   "metadata": {},
   "outputs": [
    {
     "data": {
      "image/png": "[encoded data removed]",
      "text/plain": [
       "<Figure size 432x288 with 1 Axes>"
      ]
     },
     "metadata": {
      "needs_background": "light"
     },
     "output_type": "display_data"
    }
   ],
   "source": [
    "# plot the model\n",
    "plt.scatter(X_train.years,y_train)\n",
    "plt.plot(X_train.years,yhat_train,c='r')\n",
    "plt.show()"
   ]
  },
  {
   "cell_type": "code",
   "execution_count": 27,
   "id": "c138b9ea",
   "metadata": {},
   "outputs": [],
   "source": [
    "# apply model to predict test data\n",
    "yhat_test = model_slr.predict(X_test[['years']])"
   ]
  },
  {
   "cell_type": "code",
   "execution_count": 28,
   "id": "998948a5",
   "metadata": {},
   "outputs": [
    {
     "data": {
      "image/png": "[encoded data removed]",
      "text/plain": [
       "<Figure size 432x288 with 1 Axes>"
      ]
     },
     "metadata": {
      "needs_background": "light"
     },
     "output_type": "display_data"
    }
   ],
   "source": [
    "plt.scatter(X_test.years,y_test)\n",
    "plt.plot(X_test.years,yhat_test,c='r')\n",
    "plt.show()"
   ]
  },
  {
   "cell_type": "code",
   "execution_count": 29,
   "id": "b4e7769c",
   "metadata": {},
   "outputs": [
    {
     "data": {
      "text/plain": [
       "(13.085630983046482, 1.840420954446683)"
      ]
     },
     "execution_count": 29,
     "metadata": {},
     "output_type": "execute_result"
    }
   ],
   "source": [
    "# compute train and test MSE\n",
    "mse_train = np.mean((y_train - yhat_train)**2)\n",
    "mse_test = np.mean((y_test - yhat_test)**2)\n",
    "mse_train,mse_test"
   ]
  },
  {
   "cell_type": "code",
   "execution_count": 30,
   "id": "ba10a7bc",
   "metadata": {},
   "outputs": [
    {
     "data": {
      "text/plain": [
       "(17.34544551513094, 7.087193686150561)"
      ]
     },
     "execution_count": 30,
     "metadata": {},
     "output_type": "execute_result"
    }
   ],
   "source": [
    "# compute train and test MAPE\n",
    "mape_train = np.mean(abs(y_train - yhat_train)/y_train) * 100\n",
    "mape_test = np.mean(abs(y_test - yhat_test)/y_test) * 100\n",
    "mape_train,mape_test"
   ]
  },
  {
   "cell_type": "code",
   "execution_count": 31,
   "id": "991af243",
   "metadata": {},
   "outputs": [],
   "source": [
    "model_slr_performance = {'model':\"model_slr\",'R Sq':model_slr_r_square,'train_MSE':mse_train,'test_MSE':mse_test,'train_MAPE':mape_train,'test_MAPE':mape_test}"
   ]
  },
  {
   "cell_type": "code",
   "execution_count": 32,
   "id": "9aedb066",
   "metadata": {},
   "outputs": [
    {
     "data": {
      "text/html": [
       "<div>\n",
       "<style scoped>\n",
       "    .dataframe tbody tr th:only-of-type {\n",
       "        vertical-align: middle;\n",
       "    }\n",
       "\n",
       "    .dataframe tbody tr th {\n",
       "        vertical-align: top;\n",
       "    }\n",
       "\n",
       "    .dataframe thead th {\n",
       "        text-align: right;\n",
       "    }\n",
       "</style>\n",
       "<table border=\"1\" class=\"dataframe\">\n",
       "  <thead>\n",
       "    <tr style=\"text-align: right;\">\n",
       "      <th></th>\n",
       "      <th>model</th>\n",
       "      <th>R Sq</th>\n",
       "      <th>train_MSE</th>\n",
       "      <th>test_MSE</th>\n",
       "      <th>train_MAPE</th>\n",
       "      <th>test_MAPE</th>\n",
       "    </tr>\n",
       "  </thead>\n",
       "  <tbody>\n",
       "  </tbody>\n",
       "</table>\n",
       "</div>"
      ],
      "text/plain": [
       "Empty DataFrame\n",
       "Columns: [model, R Sq, train_MSE, test_MSE, train_MAPE, test_MAPE]\n",
       "Index: []"
      ]
     },
     "execution_count": 32,
     "metadata": {},
     "output_type": "execute_result"
    }
   ],
   "source": [
    "df_snapshot = pd.DataFrame(columns=['model','R Sq','train_MSE','test_MSE','train_MAPE','test_MAPE'])\n",
    "df_snapshot"
   ]
  },
  {
   "cell_type": "code",
   "execution_count": 33,
   "id": "470c5c20",
   "metadata": {},
   "outputs": [
    {
     "ename": "AttributeError",
     "evalue": "'DataFrame' object has no attribute 'append'",
     "output_type": "error",
     "traceback": [
      "\u001b[1;31m---------------------------------------------------------------------------\u001b[0m",
      "\u001b[1;31mAttributeError\u001b[0m                            Traceback (most recent call last)",
      "Cell \u001b[1;32mIn[33], line 1\u001b[0m\n\u001b[1;32m----> 1\u001b[0m df_snapshot \u001b[38;5;241m=\u001b[39m \u001b[43mdf_snapshot\u001b[49m\u001b[38;5;241;43m.\u001b[39;49m\u001b[43mappend\u001b[49m(model_slr_performance,ignore_index\u001b[38;5;241m=\u001b[39m\u001b[38;5;28;01mTrue\u001b[39;00m)\n",
      "File \u001b[1;32m~\\AppData\\Roaming\\Python\\Python39\\site-packages\\pandas\\core\\generic.py:5989\u001b[0m, in \u001b[0;36mNDFrame.__getattr__\u001b[1;34m(self, name)\u001b[0m\n\u001b[0;32m   5982\u001b[0m \u001b[38;5;28;01mif\u001b[39;00m (\n\u001b[0;32m   5983\u001b[0m     name \u001b[38;5;129;01mnot\u001b[39;00m \u001b[38;5;129;01min\u001b[39;00m \u001b[38;5;28mself\u001b[39m\u001b[38;5;241m.\u001b[39m_internal_names_set\n\u001b[0;32m   5984\u001b[0m     \u001b[38;5;129;01mand\u001b[39;00m name \u001b[38;5;129;01mnot\u001b[39;00m \u001b[38;5;129;01min\u001b[39;00m \u001b[38;5;28mself\u001b[39m\u001b[38;5;241m.\u001b[39m_metadata\n\u001b[0;32m   5985\u001b[0m     \u001b[38;5;129;01mand\u001b[39;00m name \u001b[38;5;129;01mnot\u001b[39;00m \u001b[38;5;129;01min\u001b[39;00m \u001b[38;5;28mself\u001b[39m\u001b[38;5;241m.\u001b[39m_accessors\n\u001b[0;32m   5986\u001b[0m     \u001b[38;5;129;01mand\u001b[39;00m \u001b[38;5;28mself\u001b[39m\u001b[38;5;241m.\u001b[39m_info_axis\u001b[38;5;241m.\u001b[39m_can_hold_identifiers_and_holds_name(name)\n\u001b[0;32m   5987\u001b[0m ):\n\u001b[0;32m   5988\u001b[0m     \u001b[38;5;28;01mreturn\u001b[39;00m \u001b[38;5;28mself\u001b[39m[name]\n\u001b[1;32m-> 5989\u001b[0m \u001b[38;5;28;01mreturn\u001b[39;00m \u001b[38;5;28;43mobject\u001b[39;49m\u001b[38;5;241;43m.\u001b[39;49m\u001b[38;5;21;43m__getattribute__\u001b[39;49m\u001b[43m(\u001b[49m\u001b[38;5;28;43mself\u001b[39;49m\u001b[43m,\u001b[49m\u001b[43m \u001b[49m\u001b[43mname\u001b[49m\u001b[43m)\u001b[49m\n",
      "\u001b[1;31mAttributeError\u001b[0m: 'DataFrame' object has no attribute 'append'"
     ]
    }
   ],
   "source": [
    "df_snapshot = df_snapshot.append(model_slr_performance,ignore_index=True)"
   ]
  },
  {
   "cell_type": "code",
   "execution_count": null,
   "id": "c741f9eb",
   "metadata": {},
   "outputs": [],
   "source": [
    "df_snapshot"
   ]
  },
  {
   "cell_type": "code",
   "execution_count": null,
   "id": "29aa09c8",
   "metadata": {},
   "outputs": [],
   "source": []
  }
 ],
 "metadata": {
  "kernelspec": {
   "display_name": "Python 3 (ipykernel)",
   "language": "python",
   "name": "python3"
  },
  "language_info": {
   "codemirror_mode": {
    "name": "ipython",
    "version": 3
   },
   "file_extension": ".py",
   "mimetype": "text/x-python",
   "name": "python",
   "nbconvert_exporter": "python",
   "pygments_lexer": "ipython3",
   "version": "3.11.3"
  }
 },
 "nbformat": 4,
 "nbformat_minor": 5
}
